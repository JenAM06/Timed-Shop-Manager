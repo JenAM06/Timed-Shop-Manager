{
  "nbformat": 4,
  "nbformat_minor": 0,
  "metadata": {
    "colab": {
      "provenance": [],
      "mount_file_id": "1lJEARw9CVZVdpZo8DlHHwaWbBMIyvhJg",
      "authorship_tag": "ABX9TyNeorG0tc+v7sjCntVXhSTj",
      "include_colab_link": true
    },
    "kernelspec": {
      "name": "python3",
      "display_name": "Python 3"
    },
    "language_info": {
      "name": "python"
    }
  },
  "cells": [
    {
      "cell_type": "markdown",
      "metadata": {
        "id": "view-in-github",
        "colab_type": "text"
      },
      "source": [
        "<a href=\"https://colab.research.google.com/github/JenAM06/Timed-Shop-Manager/blob/main/Minpro1_Jen_007.ipynb\" target=\"_parent\"><img src=\"https://colab.research.google.com/assets/colab-badge.svg\" alt=\"Open In Colab\"/></a>"
      ]
    },
    {
      "cell_type": "markdown",
      "source": [
        "# BUSINESS UNDERSTANDING\n"
      ],
      "metadata": {
        "id": "xZj5N5fJCIs0"
      }
    },
    {
      "cell_type": "markdown",
      "source": [
        "**BUSINESS OBJECTIVE**\n",
        "\n",
        "Proyek ini bertujuan untuk memprediksi estimasi waktu pengiriman secara lebih akurat guna meningkatkan kepuasan pelanggan pada bagian pengirman (*delivery*). Pelanggan dapat memperoleh informasi yang lebih jelas mengenai waktu kedatangan pesanan mereka, sehingga mengurangi ketidakpastian dan meningkatkan pengalaman pengguna secara keseluruhan. Prediksi diperoleh melalui analisis faktor-faktor yang menyebabkan keterlambatan pengiriman. Proyek ini juga merancang strategi agar restoran dan kurir dapat mengurangi waktu keterlambatan pengiriman melalui efisiensi operasional dari data yang dianalisis secara mendalam.\n",
        "\n",
        "\n"
      ],
      "metadata": {
        "id": "fI4WWZEsCb3D"
      }
    },
    {
      "cell_type": "markdown",
      "source": [
        "**ASSESS SITUATION**\n",
        "\n",
        "Industri *food delivery* mengalami perkembangan pesat seiring dengan meningkatnya permintaan layanan pengiriman makanan secara *online*. Perusahaan pun bersaing ketat dalam industri ini dengan mendorong inovasi dalam teknologi pengiriman, termasuk pemanfaatan data untuk memperkirakan waktu pengantaran makanan dengan lebih akurat. Tren industri juga menunjukkan bahwa pelanggan semakin menuntut estimasi waktu pengiriman yang lebih akurat demi pengalaman yang lebih nyaman dan minim ketidakpastian. Selain itu, faktor eksternal seperti cuaca buruk dan tingkat kemacetan lalu lintas mulai menjadi tantangan utama dalam meningkatkan efisiensi pengiriman. Semua faktor ini perlu dipertimbangkan dalam analisis data untuk meningkatkan akurasi prediksi serta mengembangkan strategi mitigasi keterlambatan dalam layanan *food delivery*."
      ],
      "metadata": {
        "id": "ncZFCH6mLeLU"
      }
    },
    {
      "cell_type": "markdown",
      "source": [
        "**DATA MINING GOALS**\n",
        "\n",
        "Pengembangan model prediktif yang dapat memperkirakan waktu pengiriman berdasarkan berbagai faktor yang tersedia dalam dataset, seperti jarak antara restoran dan pelanggan, waktu persiapan pesanan, pengalaman kurir, serta kondisi cuaca dan lalu lintas. Analisis data akan dilakukan untuk mengidentifikasi faktor-faktor utama yang paling berpengaruh terhadap keterlambatan pengiriman. Selain itu, pola-pola keterlambatan akan dianalisis untuk memberikan *insight* yang dapat digunakan oleh restoran dan kurir dalam mengoptimalkan operasional mereka."
      ],
      "metadata": {
        "id": "0GmsYaYDf_zx"
      }
    },
    {
      "cell_type": "markdown",
      "source": [
        "**PROJECT PLAN**\n",
        "\n",
        "1. **Penentuan tujuan proyek**\n",
        "\n",
        "*   **Sumber daya**: 1 mahasiswi prodi Sistem Informasi\n",
        "*   **Input**: Mencari tema proyek dan informasi mengenai pembuatan proyek\n",
        "*   **Output**: perencanaan proyek yang mencakup tujuan proyek, analisis ruang lingkup proyek, dan tujuan analitik proyek.\n",
        "*   **Waktu**: sebelum 4 Maret 2025 pukul 12.00 WITA\n",
        "\n",
        "2. **Data Understanding**\n",
        "\n",
        "*   **Sumber daya/Tools**: Kaggle, pandas, Google colaborator\n",
        "*   **Input**: Dataset yang berisi informasi *food delivery*\n",
        "*   **Langkah-langkah**:\n",
        "*   Mengumpulkan Data: Mengunduh dataset Food Delivery Time Prediction dari Kaggle dan Memastikan dataset mencakup semua variabel yang relevan untuk analisis.\n",
        "*   Mendeskripsikan Data: pemeriksaan jumlah baris dan kolom, tipe data dari setiap variabel, serta mengidentifikasi variabel numerik dan kategorikal. Statistik deskriptif juga digunakan untuk memahami distribusi dan cakupan data\n",
        "\n",
        "*   Exploratory Data Analysis: Analisis ini mencakup visualisasi distribusi data menggunakan grafik, serta melihat hubungan antara variabel seperti jarak pengiriman terhadap waktu pengiriman.\n",
        "*   Verify data quality: Pengecekan nilai yang hilang (missing values) dan menentukan apakah data yang kosong akan dihapus atau diisi dengan metode tertentu.\n",
        "\n",
        "*   **Output**: deskripsi data awal\n",
        "*   **Waktu**: selesai sebelum tahap Data preparation\n",
        "\n",
        "3. **Data preparation**\n",
        "\n",
        "*   **Sumber daya/Tools**: Pandas dan Google colaborator\n",
        "*   **Input**: Dataset mentah\n",
        "*   **Langkah-langkah**: Menghapus duplikasi, menangani nilai yang hilang, standarisasi format data, construct data, membuat fitur baru jika diperlukan, dan data reduction\n",
        "*   **Output**: Data bersih\n",
        "*   **Waktu**: selesai sebelum tahap Data Visualization\n",
        "\n",
        "4. **Data Visualization**\n",
        "*   **Sumber Daya/Tools**: Mathplotlib & Seaborn, Tableau.\n",
        "*   **Input**: Dataset yang telah dibersihkan\n",
        "*    **Langkah-langkah**: Membuat grafik distribusi waktu pengiriman berdasarkan berbagai faktor, membuat heatmap korelasi antara variabel untuk melihat hubungan antar fitur, dan mengidentifikasi pola keterlambatan berdasarkan waktu dan faktor keterlambatan lainnya.\n",
        "*   **Output**: Visualisasi pola dan faktor keterlambatan pengiriman\n",
        "*   **Waktu**: selesai sebelum tahap Dashboard\n",
        "\n",
        "5. **Dashboard**\n",
        "*   **Sumber Daya/Tools**: Tableau.\n",
        "*   **Input**: Visualisasi data dari tahap sebelumnya\n",
        "*    **Langkah-langkah**: Mendesain dashboard interaktif untuk menampilkan estimasi waktu pengiriman, Menampilkan metrik utama seperti rata-rata waktu pengiriman, faktor keterlambatan utama, dan pola pemesanan.\n",
        "*   **Output**: Dashboard interaktif yang membantu memahami pola pengiriman\n",
        "*   **Waktu**: selesai sebelum tahap Insight dan Action\n",
        "\n",
        "6. **Insight dan Action**\n",
        "*   **Sumber Daya**: 1 mahasiswi prodi Sistem Informasi.\n",
        "*   **Input**: Hasil analisis dan visualisasi\n",
        "*    **Langkah-langkah**: Mengidentifikasi faktor utama yang menyebabkan keterlambatan pengiriman, dan enyusun strategi peningkatan efisiensi operasional kepada restoran dan kurir.\n",
        "*   **Output**: Laporan insight dan rekomendasi untuk meningkatkan efisiensi pengiriman\n",
        "*   **Waktu**: selesai sebelum pengumpulan tugas berikutnya.\n",
        "\n",
        "\n",
        "\n",
        "\n",
        "\n",
        "\n",
        "\n",
        "\n",
        "\n",
        "\n",
        "\n",
        "\n",
        "\n",
        "\n",
        "\n",
        "\n",
        "\n",
        "\n"
      ],
      "metadata": {
        "id": "fnd22sIMgoEp"
      }
    }
  ]
}